{
 "cells": [
  {
   "cell_type": "markdown",
   "metadata": {},
   "source": [
    "## Pip Install Dependencies"
   ]
  },
  {
   "cell_type": "code",
   "execution_count": null,
   "metadata": {},
   "outputs": [],
   "source": [
    "!pip install groundx-python-sdk "
   ]
  },
  {
   "cell_type": "code",
   "execution_count": 2,
   "metadata": {},
   "outputs": [],
   "source": [
    "import os\n",
    "from groundx import Groundx\n",
    "from dotenv import load_dotenv\n",
    "\n",
    "# Access to EyeLevel API Key\n",
    "\n",
    "eye_level_api_key = os.getenv(\"EYE_LEVEL_API_KEY\")\n",
    "\n",
    "groundx = Groundx(\n",
    "    api_key=eye_level_api_key,\n",
    ")"
   ]
  },
  {
   "cell_type": "markdown",
   "metadata": {},
   "source": [
    "## Create a bucket- where docs are stored"
   ]
  },
  {
   "cell_type": "code",
   "execution_count": 3,
   "metadata": {},
   "outputs": [
    {
     "name": "stdout",
     "output_type": "stream",
     "text": [
      "Created bucket 12053\n"
     ]
    }
   ],
   "source": [
    "response = groundx.buckets.create(\n",
    "    name=\"test_bucket\"\n",
    ")\n",
    "bucket_id = response.body['bucket']['bucketId']\n",
    "print(f'Created bucket {bucket_id}')"
   ]
  },
  {
   "cell_type": "markdown",
   "metadata": {},
   "source": [
    "## Upload the batch record"
   ]
  },
  {
   "cell_type": "code",
   "execution_count": 5,
   "metadata": {},
   "outputs": [],
   "source": [
    "doc_path = '/Users/angelmurillo/Desktop/OpenSource_RAG_LLM/data/AVD-005-MAB_INT_VIAL_RELEASE_1.pdf'\n",
    "\n",
    "#uploading document\n",
    "response = groundx.documents.ingest_local([{\n",
    "    \"blob\": open(doc_path, \"rb\"),\n",
    "    \"metadata\": {\n",
    "        \"bucketId\": bucket_id,\n",
    "        \"fileName\": doc_path,\n",
    "        \"fileType\": \"pdf\",\n",
    "        \"searchData\": {\n",
    "            \"topic\": \"mab manufacturing\",\n",
    "            \"year\": 2023\n",
    "        }\n",
    "    }\n",
    "}])\n",
    "\n",
    "processId = response.body['ingest']['processId'] "
   ]
  },
  {
   "cell_type": "markdown",
   "metadata": {},
   "source": [
    "## Tracking Parsing Progress"
   ]
  },
  {
   "cell_type": "code",
   "execution_count": 6,
   "metadata": {},
   "outputs": [
    {
     "name": "stdout",
     "output_type": "stream",
     "text": [
      "still processing...\n",
      "still processing...\n",
      "still processing...\n",
      "still processing...\n",
      "still processing...\n",
      "still processing...\n",
      "still processing...\n",
      "still processing...\n",
      "still processing...\n",
      "still processing...\n",
      "still processing...\n",
      "still processing...\n",
      "still processing...\n",
      "still processing...\n",
      "still processing...\n",
      "still processing...\n",
      "done!\n"
     ]
    }
   ],
   "source": [
    "import time\n",
    "while True:\n",
    "\n",
    "    response = groundx.documents.get_processing_status_by_id(\n",
    "        process_id=processId\n",
    "    )\n",
    "    if response.body['ingest']['status'] == 'complete':\n",
    "        print('done!')\n",
    "        break\n",
    "\n",
    "    print('still processing...')\n",
    "    time.sleep(10)\n",
    "\n",
    "#getting the document id for the next section.\n",
    "doc_id = response.body['ingest']['progress']['complete']['documents'][0]['documentId']"
   ]
  },
  {
   "cell_type": "markdown",
   "metadata": {},
   "source": [
    "## Testing out RAG"
   ]
  },
  {
   "cell_type": "code",
   "execution_count": 12,
   "metadata": {},
   "outputs": [],
   "source": [
    "# Access to OpenAI API Key\n",
    "from openai import OpenAI\n",
    "OpenAI_api_key = os.getenv(\"OPENAI_API_KEY\")"
   ]
  },
  {
   "cell_type": "code",
   "execution_count": 13,
   "metadata": {},
   "outputs": [
    {
     "name": "stdout",
     "output_type": "stream",
     "text": [
      "response:\n",
      "The cell line name mentioned in the document is \"AV0122.\"\n"
     ]
    }
   ],
   "source": [
    "\n",
    "\"\"\"Defining RAG\n",
    "using GroundX Search to retrive information, constructing an\n",
    "augmented prompt based on GX's recommended textual representation,\n",
    "and using OpenAI to generate a response.\n",
    "\"\"\"\n",
    "\n",
    "# Retreival\n",
    "def gx_search(query):\n",
    "    response = groundx.search.content(\n",
    "        id=bucket_id,\n",
    "        query=query\n",
    "    )\n",
    "    return response.body['search']['text']\n",
    "\n",
    "# Augmentation \n",
    "def gx_retreive_and_augment(query):\n",
    "\n",
    "    #getting context\n",
    "    context = gx_search(query)\n",
    "\n",
    "    if len(context) > 4000 * 3:\n",
    "        context = context[:4000*3]\n",
    "\n",
    "    #defining a high level prompt so the LLM knows what to do\n",
    "    system_prompt = 'you are a helpful AI agent tasked with helping users extract information from the context below'\n",
    "\n",
    "    #based on OpenAI's new formatting\n",
    "    augmented_prompt = [{\n",
    "        \"role\": \"system\",\n",
    "        \"content\": system_prompt+'\\n\\n===\\n'+context+'\\n==='},\n",
    "         {\n",
    "        \"role\": \"user\",\n",
    "        \"content\": query\n",
    "         }]\n",
    "\n",
    "    return augmented_prompt\n",
    "\n",
    "# Generation\n",
    "def gxrag(query):\n",
    "\n",
    "    #retreving and augmenting\n",
    "    augmented_prompt = gx_retreive_and_augment(query)\n",
    "\n",
    "    #Generating\n",
    "    client = OpenAI()\n",
    "    return client.chat.completions.create(model=\"gpt-3.5-turbo-0125\",messages=augmented_prompt).choices[0].message.content\n",
    "\n",
    "res = gxrag('What is the cel line name?')\n",
    "print('response:')\n",
    "print(res)"
   ]
  },
  {
   "cell_type": "code",
   "execution_count": 14,
   "metadata": {},
   "outputs": [
    {
     "name": "stdout",
     "output_type": "stream",
     "text": [
      "response:\n",
      "The cell bank ID mentioned in the context is \"1218-W.\" It is associated with the cell line name \"AV0122\" and is part of the vial release process described in the document.\n"
     ]
    }
   ],
   "source": [
    "res = gxrag('What is the cell bank ID?')\n",
    "print('response:')\n",
    "print(res)"
   ]
  },
  {
   "cell_type": "code",
   "execution_count": 15,
   "metadata": {},
   "outputs": [
    {
     "name": "stdout",
     "output_type": "stream",
     "text": [
      "response:\n",
      "In the context provided, the vial number specified is \"008_N/A_N/A_N/A_N/A.\"\n"
     ]
    }
   ],
   "source": [
    "res = gxrag('What is the vial number?')\n",
    "print('response:')\n",
    "print(res)"
   ]
  },
  {
   "cell_type": "code",
   "execution_count": 19,
   "metadata": {},
   "outputs": [
    {
     "name": "stdout",
     "output_type": "stream",
     "text": [
      "response:\n",
      "The vial release process occurred at different times in the document:\n",
      "\n",
      "1. **Text Excerpt 2** states that the vial release process started on **27-Jul-2023** at **09:26:31** and ended on the same day at **09:31:45**.\n",
      "   \n",
      "2. **Text Excerpt 4** mentions the vial release process starting at **27-Jul-2023 09:32:48** and ending at **27-Jul-2023 09:32:56**.\n",
      "\n",
      "3. **Text Excerpt 5** provides a start time of **27-Jul-2023 09:31:46** and an end time of **27-Jul-2023 09:32:15**.\n",
      "\n",
      "Please note that these times correspond to different sections of the document related to the vial release process.\n"
     ]
    }
   ],
   "source": [
    "res = gxrag('What is the vial release time?')\n",
    "print('response:')\n",
    "print(res)"
   ]
  },
  {
   "cell_type": "code",
   "execution_count": 20,
   "metadata": {},
   "outputs": [
    {
     "name": "stdout",
     "output_type": "stream",
     "text": [
      "response:\n",
      "The GNR, or generation number, in the context provided is represented by the parameter \"PARAMETER4.\" \n",
      "\n",
      "The target value for PARAMETER4 is \"61.5,\" but the actual value in this specific instance is \"GNR:\". It appears there may have been an error or missing information regarding the generation number in this particular case.\n"
     ]
    }
   ],
   "source": [
    "res = gxrag('What is the GNR or generation number?')\n",
    "print('response:')\n",
    "print(res)"
   ]
  }
 ],
 "metadata": {
  "kernelspec": {
   "display_name": "venv",
   "language": "python",
   "name": "python3"
  },
  "language_info": {
   "codemirror_mode": {
    "name": "ipython",
    "version": 3
   },
   "file_extension": ".py",
   "mimetype": "text/x-python",
   "name": "python",
   "nbconvert_exporter": "python",
   "pygments_lexer": "ipython3",
   "version": "3.10.14"
  }
 },
 "nbformat": 4,
 "nbformat_minor": 2
}
